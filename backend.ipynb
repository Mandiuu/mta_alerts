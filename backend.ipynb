{
 "cells": [
  {
   "cell_type": "code",
   "execution_count": 1,
   "metadata": {},
   "outputs": [],
   "source": [
    "from flask import Flask, request, jsonify\n",
    "import requests\n",
    "import gtfs_realtime_pb2  # Ensure this file is generated\n"
   ]
  },
  {
   "cell_type": "code",
   "execution_count": 2,
   "metadata": {},
   "outputs": [],
   "source": [
    "# URL for MTA's GTFS-Realtime data\n",
    "MTA_FEED_URL = 'https://api-endpoint.mta.info/Dataservice/mtagtfsfeeds/nyct%2Fgtfs-ace'\n",
    "\n",
    "def fetch_mta_alerts():\n",
    "    feed = gtfs_realtime_pb2.FeedMessage()\n",
    "    try:\n",
    "        response = requests.get(MTA_FEED_URL)\n",
    "        response.raise_for_status()\n",
    "        feed.ParseFromString(response.content)\n",
    "    except requests.RequestException as e:\n",
    "        return {\"error\": str(e)}\n",
    "\n",
    "    alerts = []\n",
    "    for entity in feed.entity:\n",
    "        if entity.HasField('alert'):\n",
    "            alert_text = entity.alert.header_text.translation[0].text\n",
    "            alerts.append(alert_text)\n",
    "    return alerts\n"
   ]
  },
  {
   "cell_type": "code",
   "execution_count": 3,
   "metadata": {},
   "outputs": [],
   "source": [
    "app = Flask(__name__)\n",
    "\n",
    "@app.route('/get-alerts', methods=['GET'])\n",
    "def get_alerts():\n",
    "    line = request.args.get('line', '').upper()\n",
    "    station = request.args.get('station', '').title()\n",
    "    \n",
    "    alerts = fetch_mta_alerts()\n",
    "    if \"error\" in alerts:\n",
    "        return jsonify(alerts), 500\n",
    "    \n",
    "    # Filter alerts by line and station if specified\n",
    "    relevant_alerts = [alert for alert in alerts if line in alert and station in alert]\n",
    "    \n",
    "    return jsonify({\"alerts\": relevant_alerts})\n"
   ]
  },
  {
   "cell_type": "code",
   "execution_count": 4,
   "metadata": {},
   "outputs": [
    {
     "name": "stdout",
     "output_type": "stream",
     "text": [
      " * Serving Flask app '__main__'\n",
      " * Debug mode: off\n"
     ]
    },
    {
     "name": "stderr",
     "output_type": "stream",
     "text": [
      "WARNING: This is a development server. Do not use it in a production deployment. Use a production WSGI server instead.\n",
      " * Running on http://127.0.0.1:5000\n",
      "Press CTRL+C to quit\n",
      "127.0.0.1 - - [02/Nov/2024 14:14:37] \"GET / HTTP/1.1\" 404 -\n",
      "127.0.0.1 - - [02/Nov/2024 14:14:37] \"GET /favicon.ico HTTP/1.1\" 404 -\n"
     ]
    }
   ],
   "source": [
    "app.run(port=5000)\n"
   ]
  },
  {
   "cell_type": "code",
   "execution_count": null,
   "metadata": {},
   "outputs": [],
   "source": []
  },
  {
   "cell_type": "code",
   "execution_count": null,
   "metadata": {},
   "outputs": [],
   "source": []
  }
 ],
 "metadata": {
  "kernelspec": {
   "display_name": "Python 3",
   "language": "python",
   "name": "python3"
  },
  "language_info": {
   "codemirror_mode": {
    "name": "ipython",
    "version": 3
   },
   "file_extension": ".py",
   "mimetype": "text/x-python",
   "name": "python",
   "nbconvert_exporter": "python",
   "pygments_lexer": "ipython3",
   "version": "3.11.6"
  }
 },
 "nbformat": 4,
 "nbformat_minor": 2
}
