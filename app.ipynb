{
 "cells": [
  {
   "cell_type": "code",
   "execution_count": 1,
   "metadata": {},
   "outputs": [],
   "source": [
    "# app.py\n",
    "from flask import Flask, jsonify\n",
    "import requests\n",
    "import gtfs_realtime_pb2  # Import the generated file for GTFS-Realtime parsing"
   ]
  },
  {
   "cell_type": "code",
   "execution_count": 2,
   "metadata": {},
   "outputs": [
    {
     "name": "stdout",
     "output_type": "stream",
     "text": [
      " * Serving Flask app '__main__'\n",
      " * Debug mode: on\n"
     ]
    },
    {
     "name": "stderr",
     "output_type": "stream",
     "text": [
      "WARNING: This is a development server. Do not use it in a production deployment. Use a production WSGI server instead.\n",
      " * Running on http://127.0.0.1:5001\n",
      "Press CTRL+C to quit\n",
      " * Restarting with stat\n",
      "0.00s - Debugger warning: It seems that frozen modules are being used, which may\n",
      "0.00s - make the debugger miss breakpoints. Please pass -Xfrozen_modules=off\n",
      "0.00s - to python to disable frozen modules.\n",
      "0.00s - Note: Debugging will proceed. Set PYDEVD_DISABLE_FILE_VALIDATION=1 to disable this validation.\n",
      "Traceback (most recent call last):\n",
      "  File \"<frozen runpy>\", line 198, in _run_module_as_main\n",
      "  File \"<frozen runpy>\", line 88, in _run_code\n",
      "  File \"/Users/carlamandiola/.pyenv/versions/3.11.6/lib/python3.11/site-packages/ipykernel_launcher.py\", line 17, in <module>\n",
      "    app.launch_new_instance()\n",
      "  File \"/Users/carlamandiola/.pyenv/versions/3.11.6/lib/python3.11/site-packages/traitlets/config/application.py\", line 1052, in launch_instance\n",
      "    app.initialize(argv)\n",
      "  File \"/Users/carlamandiola/.pyenv/versions/3.11.6/lib/python3.11/site-packages/traitlets/config/application.py\", line 117, in inner\n",
      "    return method(app, *args, **kwargs)\n",
      "           ^^^^^^^^^^^^^^^^^^^^^^^^^^^^\n",
      "  File \"/Users/carlamandiola/.pyenv/versions/3.11.6/lib/python3.11/site-packages/ipykernel/kernelapp.py\", line 690, in initialize\n",
      "    self.init_sockets()\n",
      "  File \"/Users/carlamandiola/.pyenv/versions/3.11.6/lib/python3.11/site-packages/ipykernel/kernelapp.py\", line 329, in init_sockets\n",
      "    self.shell_port = self._bind_socket(self.shell_socket, self.shell_port)\n",
      "                      ^^^^^^^^^^^^^^^^^^^^^^^^^^^^^^^^^^^^^^^^^^^^^^^^^^^^^\n",
      "  File \"/Users/carlamandiola/.pyenv/versions/3.11.6/lib/python3.11/site-packages/ipykernel/kernelapp.py\", line 252, in _bind_socket\n",
      "    return self._try_bind_socket(s, port)\n",
      "           ^^^^^^^^^^^^^^^^^^^^^^^^^^^^^^\n",
      "  File \"/Users/carlamandiola/.pyenv/versions/3.11.6/lib/python3.11/site-packages/ipykernel/kernelapp.py\", line 228, in _try_bind_socket\n",
      "    s.bind(\"tcp://%s:%i\" % (self.ip, port))\n",
      "  File \"/Users/carlamandiola/.pyenv/versions/3.11.6/lib/python3.11/site-packages/zmq/sugar/socket.py\", line 302, in bind\n",
      "    super().bind(addr)\n",
      "  File \"zmq/backend/cython/socket.pyx\", line 564, in zmq.backend.cython.socket.Socket.bind\n",
      "  File \"zmq/backend/cython/checkrc.pxd\", line 28, in zmq.backend.cython.checkrc._check_rc\n",
      "zmq.error.ZMQError: Address already in use (addr='tcp://127.0.0.1:9007')\n"
     ]
    },
    {
     "ename": "SystemExit",
     "evalue": "1",
     "output_type": "error",
     "traceback": [
      "An exception has occurred, use %tb to see the full traceback.\n",
      "\u001b[0;31mSystemExit\u001b[0m\u001b[0;31m:\u001b[0m 1\n"
     ]
    },
    {
     "name": "stderr",
     "output_type": "stream",
     "text": [
      "/Users/carlamandiola/.pyenv/versions/3.11.6/lib/python3.11/site-packages/IPython/core/interactiveshell.py:3561: UserWarning: To exit: use 'exit', 'quit', or Ctrl-D.\n",
      "  warn(\"To exit: use 'exit', 'quit', or Ctrl-D.\", stacklevel=1)\n"
     ]
    }
   ],
   "source": [
    "app = Flask(__name__)\n",
    "\n",
    "# URL for MTA's GTFS-Realtime data (example for A, C, E lines)\n",
    "MTA_FEED_URL = 'https://api-endpoint.mta.info/Dataservice/mtagtfsfeeds/nyct%2Fgtfs-ace'\n",
    "\n",
    "@app.route('/service-alerts', methods=['GET'])\n",
    "def get_service_alerts():\n",
    "    # Initialize the GTFS-Realtime FeedMessage\n",
    "    feed = gtfs_realtime_pb2.FeedMessage()\n",
    "    \n",
    "    # Fetch GTFS-Realtime data from the MTA\n",
    "    try:\n",
    "        response = requests.get(MTA_FEED_URL)\n",
    "        response.raise_for_status()\n",
    "    except requests.RequestException as e:\n",
    "        return jsonify({\"error\": \"Failed to fetch MTA data\", \"details\": str(e)}), 500\n",
    "\n",
    "    # Parse the response content\n",
    "    feed.ParseFromString(response.content)\n",
    "    \n",
    "    # Extract service alerts related to route changes or delays\n",
    "    alerts = []\n",
    "    for entity in feed.entity:\n",
    "        if entity.HasField('alert'):\n",
    "            alert = entity.alert\n",
    "            # Check if alert text mentions delays or reroutes\n",
    "            alert_text = alert.header_text.translation[0].text\n",
    "            if \"delay\" in alert_text.lower() or \"reroute\" in alert_text.lower():\n",
    "                alerts.append(alert_text)\n",
    "\n",
    "    # Return the alerts as JSON\n",
    "    if alerts:\n",
    "        return jsonify({\"alerts\": alerts}), 200\n",
    "    else:\n",
    "        return jsonify({\"alerts\": \"No route changes or delays detected\"}), 200\n",
    "\n",
    "# Run the Flask app on a custom port\n",
    "if __name__ == '__main__':\n",
    "    app.run(debug=True, port=5001)\n"
   ]
  },
  {
   "cell_type": "code",
   "execution_count": null,
   "metadata": {},
   "outputs": [],
   "source": []
  },
  {
   "cell_type": "code",
   "execution_count": null,
   "metadata": {},
   "outputs": [],
   "source": []
  },
  {
   "cell_type": "code",
   "execution_count": null,
   "metadata": {},
   "outputs": [],
   "source": []
  },
  {
   "cell_type": "code",
   "execution_count": null,
   "metadata": {},
   "outputs": [],
   "source": []
  },
  {
   "cell_type": "code",
   "execution_count": null,
   "metadata": {},
   "outputs": [],
   "source": []
  }
 ],
 "metadata": {
  "kernelspec": {
   "display_name": "Python 3",
   "language": "python",
   "name": "python3"
  },
  "language_info": {
   "codemirror_mode": {
    "name": "ipython",
    "version": 3
   },
   "file_extension": ".py",
   "mimetype": "text/x-python",
   "name": "python",
   "nbconvert_exporter": "python",
   "pygments_lexer": "ipython3",
   "version": "3.11.6"
  }
 },
 "nbformat": 4,
 "nbformat_minor": 2
}
