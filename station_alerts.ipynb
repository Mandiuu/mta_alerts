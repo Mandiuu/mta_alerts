{
 "cells": [
  {
   "cell_type": "code",
   "execution_count": 1,
   "metadata": {},
   "outputs": [],
   "source": [
    "import requests\n",
    "import gtfs_realtime_pb2  # Ensure this file is generated\n",
    "\n",
    "# URL for MTA's GTFS-Realtime data\n",
    "MTA_FEED_URL = 'https://api-endpoint.mta.info/Dataservice/mtagtfsfeeds/nyct%2Fgtfs-ace'\n"
   ]
  },
  {
   "cell_type": "code",
   "execution_count": 2,
   "metadata": {},
   "outputs": [],
   "source": [
    "def fetch_mta_alerts():\n",
    "    # Initialize the GTFS-Realtime FeedMessage\n",
    "    feed = gtfs_realtime_pb2.FeedMessage()\n",
    "    \n",
    "    try:\n",
    "        # Fetch GTFS-Realtime data from the MTA\n",
    "        response = requests.get(MTA_FEED_URL)\n",
    "        response.raise_for_status()\n",
    "        feed.ParseFromString(response.content)\n",
    "    except requests.RequestException as e:\n",
    "        print(\"Failed to fetch MTA data:\", e)\n",
    "        return []\n",
    "\n",
    "    # Collect all alerts\n",
    "    alerts = []\n",
    "    for entity in feed.entity:\n",
    "        if entity.HasField('alert'):\n",
    "            alert = entity.alert\n",
    "            alert_text = alert.header_text.translation[0].text\n",
    "            alerts.append(alert_text)\n",
    "    return alerts\n"
   ]
  },
  {
   "cell_type": "code",
   "execution_count": 3,
   "metadata": {},
   "outputs": [],
   "source": [
    "def filter_alerts_by_station(alerts, line, station):\n",
    "    # Filter alerts for the specified line and station\n",
    "    relevant_alerts = [alert for alert in alerts if line.lower() in alert.lower() and station.lower() in alert.lower()]\n",
    "    return relevant_alerts\n"
   ]
  },
  {
   "cell_type": "code",
   "execution_count": 4,
   "metadata": {},
   "outputs": [],
   "source": [
    "def main():\n",
    "    # Get user input\n",
    "    line = input(\"Enter subway line (e.g., A, C, E): \").strip().upper()\n",
    "    station = input(\"Enter station name (e.g., 34th St): \").strip().title()\n",
    "    \n",
    "    # Fetch all MTA alerts\n",
    "    alerts = fetch_mta_alerts()\n",
    "    \n",
    "    if not alerts:\n",
    "        print(\"No alerts found.\")\n",
    "        return\n",
    "    \n",
    "    # Filter alerts by line and station\n",
    "    relevant_alerts = filter_alerts_by_station(alerts, line, station)\n",
    "    \n",
    "    # Display the filtered alerts\n",
    "    if relevant_alerts:\n",
    "        print(f\"\\nService Alerts for {line} line at {station}:\")\n",
    "        for alert in relevant_alerts:\n",
    "            print(\"-\", alert)\n",
    "    else:\n",
    "        print(f\"\\nNo current service alerts for {line} line at {station}.\")\n"
   ]
  },
  {
   "cell_type": "code",
   "execution_count": null,
   "metadata": {},
   "outputs": [],
   "source": [
    "main()\n",
    "\n"
   ]
  },
  {
   "cell_type": "code",
   "execution_count": null,
   "metadata": {},
   "outputs": [],
   "source": []
  }
 ],
 "metadata": {
  "kernelspec": {
   "display_name": "Python 3",
   "language": "python",
   "name": "python3"
  },
  "language_info": {
   "codemirror_mode": {
    "name": "ipython",
    "version": 3
   },
   "file_extension": ".py",
   "mimetype": "text/x-python",
   "name": "python",
   "nbconvert_exporter": "python",
   "pygments_lexer": "ipython3",
   "version": "3.11.6"
  }
 },
 "nbformat": 4,
 "nbformat_minor": 2
}
